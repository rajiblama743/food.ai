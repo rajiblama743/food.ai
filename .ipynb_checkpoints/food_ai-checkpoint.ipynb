{
 "cells": [
  {
   "cell_type": "markdown",
   "id": "fd9859c1-dbbc-4507-a938-60c753a1eeec",
   "metadata": {},
   "source": [
    "# Project: food.ai\n",
    "This is a Machine Learning Pipeline which classifies 101 different images of food dataset from Kaggel https://www.kaggle.com/datasets/dansbecker/food-101\n",
    "\n",
    "Overview of this notebook:\n",
    "1. Using TensorFlow Datasets to download and explore whole data of Food101\n",
    "2. Creating a preprocessing function for our data\n",
    "3. Batching and preparing datasets for modelling (making them run fast)\n",
    "4. Setting up mixed precision training (use of both 16 and 32-bit float-point type for faster model training)\n",
    "5. Building and training a **Feature Extraction Transfer Learning** model\n",
    "6. Fine-tuning the feature extraction model to beat the DeepFood Paper\n",
    "7. Evaluating the model results by making and plotting Predictions"
   ]
  },
  {
   "cell_type": "markdown",
   "id": "3aeb1cef-834b-47b2-a754-5afabe5f9d10",
   "metadata": {},
   "source": [
    "> **Note:** Among NVIDIA GPUs, those with compute capability 7.0 or higher will see the greatest performance benefit from **mixed precision** because they have special hardware units, called Tensor Cores, to accelerate float16 matrix multiplications and convolutions. Source: https://www.tensorflow.org/guide/mixed_precision\n",
    "\n",
    "> In my case, I currently have access to NVIDIA GeForce RTX 2060/GeForce GTX 1650 Ti, which has compute capability of 7.5."
   ]
  },
  {
   "cell_type": "code",
   "execution_count": 3,
   "id": "fc564ffd-f5be-459c-9338-c0216dbd2dc6",
   "metadata": {},
   "outputs": [
    {
     "name": "stdout",
     "output_type": "stream",
     "text": [
      "Sun Jan 12 16:02:10 2025       \n",
      "+-----------------------------------------------------------------------------------------+\n",
      "| NVIDIA-SMI 550.120                Driver Version: 550.120        CUDA Version: 12.4     |\n",
      "|-----------------------------------------+------------------------+----------------------+\n",
      "| GPU  Name                 Persistence-M | Bus-Id          Disp.A | Volatile Uncorr. ECC |\n",
      "| Fan  Temp   Perf          Pwr:Usage/Cap |           Memory-Usage | GPU-Util  Compute M. |\n",
      "|                                         |                        |               MIG M. |\n",
      "|=========================================+========================+======================|\n",
      "|   0  NVIDIA GeForce RTX 2060        Off |   00000000:01:00.0 Off |                  N/A |\n",
      "| 31%   37C    P8              7W /  170W |       7MiB /   6144MiB |      0%      Default |\n",
      "|                                         |                        |                  N/A |\n",
      "+-----------------------------------------+------------------------+----------------------+\n",
      "                                                                                         \n",
      "+-----------------------------------------------------------------------------------------+\n",
      "| Processes:                                                                              |\n",
      "|  GPU   GI   CI        PID   Type   Process name                              GPU Memory |\n",
      "|        ID   ID                                                               Usage      |\n",
      "|=========================================================================================|\n",
      "|    0   N/A  N/A      2323      G   /usr/lib/xorg/Xorg                              4MiB |\n",
      "+-----------------------------------------------------------------------------------------+\n"
     ]
    }
   ],
   "source": [
    "# GPU Check\n",
    "!nvidia-smi"
   ]
  },
  {
   "cell_type": "code",
   "execution_count": null,
   "id": "2f99f1be-acd6-4357-b5a0-25f2fdcf27f0",
   "metadata": {},
   "outputs": [],
   "source": []
  }
 ],
 "metadata": {
  "kernelspec": {
   "display_name": "Python 3 (ipykernel)",
   "language": "python",
   "name": "python3"
  },
  "language_info": {
   "codemirror_mode": {
    "name": "ipython",
    "version": 3
   },
   "file_extension": ".py",
   "mimetype": "text/x-python",
   "name": "python",
   "nbconvert_exporter": "python",
   "pygments_lexer": "ipython3",
   "version": "3.12.3"
  }
 },
 "nbformat": 4,
 "nbformat_minor": 5
}
